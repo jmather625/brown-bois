{
 "cells": [
  {
   "cell_type": "code",
   "execution_count": 1,
   "metadata": {},
   "outputs": [],
   "source": [
    "import numpy as np\n",
    "import matplotlib.pyplot as plt\n",
    "\n",
    "import sklearn\n",
    "from sklearn import datasets\n",
    "from sklearn.model_selection import train_test_split\n",
    "from sklearn.linear_model import LogisticRegression\n",
    "from sklearn.ensemble import RandomForestClassifier\n",
    "from sklearn.metrics import accuracy_score, roc_auc_score, f1_score\n",
    "\n",
    "from metrics import ModelChooser\n",
    "from helpers import plot_1d"
   ]
  },
  {
   "cell_type": "code",
   "execution_count": 2,
   "metadata": {},
   "outputs": [],
   "source": [
    "RANDOM_SEED = 7\n",
    "\n",
    "LR_ARGS = {\"solver\": 'lbfgs', \"max_iter\": 10000}\n",
    "RF_ARGS = {\"n_estimators\": 40, \"n_jobs\": -1, \"random_state\": RANDOM_SEED}\n",
    "\n",
    "\n",
    "MC = ModelChooser()"
   ]
  },
  {
   "cell_type": "code",
   "execution_count": 3,
   "metadata": {},
   "outputs": [],
   "source": [
    "def train_lr(x_train, y_train, x_test, y_test):\n",
    "    lr = LogisticRegression(**LR_ARGS)\n",
    "    lr.fit(x_train, y_train)\n",
    "    \n",
    "    ppreds_t = lr.predict_proba(x_train)\n",
    "    preds_t = np.argmax(ppreds_t, axis=1)\n",
    "    ppreds_v = lr.predict_proba(x_test)\n",
    "    preds_v = np.argmax(ppreds_v, axis=1)\n",
    "    \n",
    "    print(\"Train acc:\", accuracy_score(y_train, preds_t))\n",
    "    print(\"Test acc:\", accuracy_score(y_test, preds_v))\n",
    "    \n",
    "def train_rf(x_train, y_train, x_test, y_test):\n",
    "    rf = RandomForestClassifier(**RF_ARGS)\n",
    "    rf.fit(x_train, y_train)\n",
    "    \n",
    "    ppreds_t = rf.predict_proba(x_train)\n",
    "    preds_t = np.argmax(ppreds_t, axis=1)\n",
    "    ppreds_v = rf.predict_proba(x_test)\n",
    "    preds_v = np.argmax(ppreds_v, axis=1)\n",
    "    \n",
    "    print(\"Train acc:\", accuracy_score(y_train, preds_t))\n",
    "    print(\"Test acc:\", accuracy_score(y_test, preds_v))\n",
    "    "
   ]
  },
  {
   "cell_type": "code",
   "execution_count": 4,
   "metadata": {},
   "outputs": [],
   "source": [
    "bcd = datasets.load_breast_cancer()"
   ]
  },
  {
   "cell_type": "code",
   "execution_count": 5,
   "metadata": {},
   "outputs": [],
   "source": [
    "x = bcd['data']\n",
    "y = bcd['target']\n",
    "\n",
    "x_train, x_test, y_train, y_test = train_test_split(x, y, test_size=0.3, random_state=RANDOM_SEED)"
   ]
  },
  {
   "cell_type": "code",
   "execution_count": 6,
   "metadata": {},
   "outputs": [
    {
     "name": "stdout",
     "output_type": "stream",
     "text": [
      "Train acc: 0.964824120603015\n",
      "Test acc: 0.9590643274853801\n"
     ]
    }
   ],
   "source": [
    "train_lr(x_train, y_train, x_test, y_test)"
   ]
  },
  {
   "cell_type": "code",
   "execution_count": 7,
   "metadata": {},
   "outputs": [
    {
     "name": "stdout",
     "output_type": "stream",
     "text": [
      "Train acc: 1.0\n",
      "Test acc: 0.9649122807017544\n"
     ]
    }
   ],
   "source": [
    "train_rf(x_train, y_train, x_test, y_test)"
   ]
  },
  {
   "cell_type": "code",
   "execution_count": 8,
   "metadata": {},
   "outputs": [
    {
     "name": "stdout",
     "output_type": "stream",
     "text": [
      "Feature distribution summary:\n",
      " {'logit': [0, 2, 3, 5, 6, 7, 10, 12, 13, 20, 22, 23, 25, 26, 27], 'internal_sep': [0, 1, 2, 3, 4, 5, 6, 7, 8, 9, 10, 11, 12, 13, 14, 15, 16, 17, 18, 19, 20, 21, 22, 23, 24, 25, 26, 27, 28, 29], 'half-logit': [1, 4, 8, 15, 16, 17, 19, 21, 24, 28, 29]}\n",
      "\n",
      "Logistic Regression is the better option\n"
     ]
    }
   ],
   "source": [
    "MC.decide(x, y)"
   ]
  },
  {
   "cell_type": "code",
   "execution_count": 9,
   "metadata": {},
   "outputs": [],
   "source": [
    "def choose_one(y):\n",
    "    y_orig = y.copy()\n",
    "    y_working = y_orig.copy()\n",
    "    classes = np.unique(y_orig)\n",
    "    res = []\n",
    "    for c in classes:\n",
    "        if c == 0:\n",
    "            # cant directly set to 0 as c is 0, and cant make c 1 cause some other classes may be 1\n",
    "            y_working[y_orig!=c] = -1\n",
    "            y_working[y_orig==c] = 1\n",
    "            y_working[y_orig!=c] = 0\n",
    "        else:\n",
    "            y_working[y_orig!=c] = 0\n",
    "            y_working[y_orig==c] = 1\n",
    "        res.append(y_working.copy())\n",
    "    return res"
   ]
  },
  {
   "cell_type": "code",
   "execution_count": 10,
   "metadata": {},
   "outputs": [],
   "source": [
    "ird = sklearn.datasets.load_iris()"
   ]
  },
  {
   "cell_type": "code",
   "execution_count": 25,
   "metadata": {},
   "outputs": [],
   "source": [
    "opts = choose_one(ird['target'])"
   ]
  },
  {
   "cell_type": "code",
   "execution_count": 26,
   "metadata": {},
   "outputs": [
    {
     "name": "stdout",
     "output_type": "stream",
     "text": [
      "Decision:\n",
      "Feature distribution summary:\n",
      " {'logit': [0, 1, 2, 3], 'internal_sep': [0, 1, 2, 3], 'half-logit': []}\n",
      "\n",
      "Logistic Regression is the better option\n",
      "\n",
      "\n",
      "LR:\n",
      "Train acc: 1.0\n",
      "Test acc: 1.0\n",
      "\n",
      "RF:\n",
      "Train acc: 1.0\n",
      "Test acc: 1.0\n",
      "-----------\n",
      "\n",
      "Decision:\n",
      "Feature distribution summary:\n",
      " {'logit': [], 'internal_sep': [0, 1, 2, 3], 'half-logit': [1]}\n",
      "\n",
      "Random Forest is the better option\n",
      "\n",
      "\n",
      "LR:\n",
      "Train acc: 0.7904761904761904\n",
      "Test acc: 0.6222222222222222\n",
      "\n",
      "RF:\n",
      "Train acc: 1.0\n",
      "Test acc: 0.9111111111111111\n",
      "-----------\n",
      "\n",
      "Decision:\n",
      "Feature distribution summary:\n",
      " {'logit': [0, 2, 3], 'internal_sep': [0, 1, 2, 3], 'half-logit': [1]}\n",
      "\n",
      "Logistic Regression is the better option\n",
      "\n",
      "\n",
      "LR:\n",
      "Train acc: 0.9904761904761905\n",
      "Test acc: 0.9111111111111111\n",
      "\n",
      "RF:\n",
      "Train acc: 1.0\n",
      "Test acc: 0.9111111111111111\n",
      "-----------\n",
      "\n"
     ]
    }
   ],
   "source": [
    "x = ird['data']\n",
    "for y in opts:\n",
    "    print(\"Decision:\")\n",
    "    MC.decide(x, y)\n",
    "    print('\\n')\n",
    "    \n",
    "    print(\"LR:\")\n",
    "    x_train, x_test, y_train, y_test = train_test_split(x, y, test_size=0.3, random_state=RANDOM_SEED)\n",
    "    train_lr(x_train, y_train, x_test, y_test)\n",
    "    print(\"\\nRF:\")\n",
    "    train_rf(x_train, y_train, x_test, y_test)\n",
    "    print(\"-----------\\n\")"
   ]
  },
  {
   "cell_type": "code",
   "execution_count": 30,
   "metadata": {},
   "outputs": [
    {
     "data": {
      "image/png": "[encoded data removed]",
      "text/plain": [
       "<Figure size 432x288 with 1 Axes>"
      ]
     },
     "metadata": {
      "needs_background": "light"
     },
     "output_type": "display_data"
    }
   ],
   "source": [
    "plot_1d(x, opts[1], 2)"
   ]
  },
  {
   "cell_type": "code",
   "execution_count": null,
   "metadata": {},
   "outputs": [],
   "source": []
  },
  {
   "cell_type": "code",
   "execution_count": 14,
   "metadata": {},
   "outputs": [],
   "source": [
    "wd = sklearn.datasets.load_wine()"
   ]
  },
  {
   "cell_type": "code",
   "execution_count": 15,
   "metadata": {},
   "outputs": [],
   "source": [
    "opts = choose_one(wd['target'])"
   ]
  },
  {
   "cell_type": "code",
   "execution_count": 16,
   "metadata": {},
   "outputs": [
    {
     "name": "stdout",
     "output_type": "stream",
     "text": [
      "Decision:\n",
      "Feature distribution summary:\n",
      " {'logit': [0, 3, 5, 6, 12], 'internal_sep': [0, 1, 2, 3, 4, 5, 6, 7, 8, 9, 10, 11, 12], 'half-logit': [2, 4, 7, 8, 9, 10, 11]}\n",
      "\n",
      "Logistic Regression is the better option\n",
      "\n",
      "\n",
      "Train acc: 0.9919354838709677\n",
      "Test acc: 0.9814814814814815\n",
      "Train acc: 1.0\n",
      "Test acc: 1.0\n",
      "-----------\n",
      "\n",
      "Decision:\n",
      "Feature distribution summary:\n",
      " {'logit': [0, 1, 4, 9, 12], 'internal_sep': [0, 1, 2, 3, 4, 5, 6, 7, 8, 9, 10, 11, 12], 'half-logit': [2, 3, 8, 10, 11]}\n",
      "\n",
      "Logistic Regression is the better option\n",
      "\n",
      "\n",
      "Train acc: 0.9838709677419355\n",
      "Test acc: 0.9629629629629629\n",
      "Train acc: 1.0\n",
      "Test acc: 1.0\n",
      "-----------\n",
      "\n",
      "Decision:\n",
      "Feature distribution summary:\n",
      " {'logit': [5, 6, 10, 11], 'internal_sep': [0, 1, 2, 3, 4, 5, 6, 7, 8, 9, 10, 11, 12], 'half-logit': [1, 2, 3, 7, 8, 9]}\n",
      "\n",
      "Logistic Regression is the better option\n",
      "\n",
      "\n",
      "Train acc: 1.0\n",
      "Test acc: 0.9629629629629629\n",
      "Train acc: 1.0\n",
      "Test acc: 1.0\n",
      "-----------\n",
      "\n"
     ]
    }
   ],
   "source": [
    "x = wd['data']\n",
    "for y in opts:\n",
    "    print(\"Decision:\")\n",
    "    MC.decide(x, y)\n",
    "    print('\\n')\n",
    "    \n",
    "    x_train, x_test, y_train, y_test = train_test_split(x, y, test_size=0.3, random_state=RANDOM_SEED)\n",
    "    lr = train_lr(x_train, y_train, x_test, y_test)\n",
    "    train_rf(x_train, y_train, x_test, y_test)\n",
    "    print(\"-----------\\n\")"
   ]
  },
  {
   "cell_type": "code",
   "execution_count": null,
   "metadata": {},
   "outputs": [],
   "source": []
  },
  {
   "cell_type": "code",
   "execution_count": 17,
   "metadata": {},
   "outputs": [],
   "source": [
    "def to_classification(y):\n",
    "    y_out = np.zeros(len(y))\n",
    "    m = y.mean()\n",
    "    y_out[y >= m] = 1\n",
    "    return y_out"
   ]
  },
  {
   "cell_type": "code",
   "execution_count": 18,
   "metadata": {},
   "outputs": [],
   "source": [
    "bd = sklearn.datasets.load_boston()"
   ]
  },
  {
   "cell_type": "code",
   "execution_count": 19,
   "metadata": {},
   "outputs": [],
   "source": [
    "x = bd['data']\n",
    "y = to_classification(bd['target'])\n",
    "x_train, x_test, y_train, y_test = train_test_split(x, y, test_size=0.3, random_state=RANDOM_SEED)"
   ]
  },
  {
   "cell_type": "code",
   "execution_count": 20,
   "metadata": {},
   "outputs": [
    {
     "name": "stdout",
     "output_type": "stream",
     "text": [
      "Feature distribution summary:\n",
      " {'logit': [2, 5, 6, 12], 'internal_sep': [0, 1, 2, 4, 5, 6, 7, 8, 9, 10, 11, 12], 'half-logit': [0, 1, 4, 7, 8, 9, 10, 11]}\n",
      "\n",
      "Logistic Regression is the better option\n"
     ]
    }
   ],
   "source": [
    "MC.decide(x, y)"
   ]
  },
  {
   "cell_type": "code",
   "execution_count": 21,
   "metadata": {},
   "outputs": [
    {
     "name": "stdout",
     "output_type": "stream",
     "text": [
      "Train acc: 0.9067796610169492\n",
      "Test acc: 0.8486842105263158\n"
     ]
    }
   ],
   "source": [
    "train_lr(x_train, y_train, x_test, y_test)"
   ]
  },
  {
   "cell_type": "code",
   "execution_count": 22,
   "metadata": {},
   "outputs": [
    {
     "name": "stdout",
     "output_type": "stream",
     "text": [
      "Train acc: 1.0\n",
      "Test acc: 0.8486842105263158\n"
     ]
    }
   ],
   "source": [
    "train_rf(x_train, y_train, x_test, y_test)"
   ]
  },
  {
   "cell_type": "code",
   "execution_count": null,
   "metadata": {},
   "outputs": [],
   "source": []
  }
 ],
 "metadata": {
  "kernelspec": {
   "display_name": "Python 3",
   "language": "python",
   "name": "python3"
  },
  "language_info": {
   "codemirror_mode": {
    "name": "ipython",
    "version": 3
   },
   "file_extension": ".py",
   "mimetype": "text/x-python",
   "name": "python",
   "nbconvert_exporter": "python",
   "pygments_lexer": "ipython3",
   "version": "3.7.3"
  }
 },
 "nbformat": 4,
 "nbformat_minor": 2
}
