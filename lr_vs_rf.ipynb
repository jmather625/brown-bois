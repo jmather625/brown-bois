{
 "cells": [
  {
   "cell_type": "code",
   "execution_count": 91,
   "metadata": {},
   "outputs": [],
   "source": [
    "import sklearn\n",
    "from sklearn import datasets\n",
    "from sklearn.model_selection import train_test_split\n",
    "from sklearn.linear_model import LogisticRegression\n",
    "from sklearn.ensemble import RandomForestClassifier\n",
    "import numpy as np\n",
    "import matplotlib as plt"
   ]
  },
  {
   "cell_type": "code",
   "execution_count": 83,
   "metadata": {},
   "outputs": [],
   "source": [
    "# determine the penalty for RandomForest based on the sample size / number of features\n",
    "def sample_over_feature_score(df):\n",
    "    features = len(df.columns)\n",
    "    samples = len(df.index)\n",
    "    if samples < 1000:\n",
    "        penalty = 0.10\n",
    "    raw_score = samples/features\n",
    "    if (raw_score > 0 and raw_score < 1):\n",
    "        return 0.1\n",
    "    if (raw_score >= 1 and raw_score < 10):\n",
    "        return 0.2\n",
    "    if (raw_score >= 10 and raw_score < 100):\n",
    "        return 0.5\n",
    "    if (raw_score >= 100 and raw_score < 200):\n",
    "        return 0.90 - penalty\n",
    "    if (raw_score >= 200):\n",
    "        return 0.95 - penalty\n",
    "    else:\n",
    "        return 0\n",
    "    "
   ]
  },
  {
   "cell_type": "code",
   "execution_count": 87,
   "metadata": {},
   "outputs": [],
   "source": [
    "import pandas as pd\n",
    "import time\n",
    "\n",
    "df = pd.read_csv('letter-recognition (1).csv')\n",
    "df = df.rename(columns={\"T\": \"Letter\"})\n",
    "\n",
    "LR_Score = []\n",
    "RF_Score = []\n",
    "scores = []\n",
    "sizes = np.linspace(20000, 1000, 20)\n",
    "sizes = list(map(int, sizes))\n",
    "for s in sizes:\n",
    "    df_copy = df[0:s]\n",
    "    scores.append(sample_over_feature_score(df_copy))"
   ]
  },
  {
   "cell_type": "code",
   "execution_count": 88,
   "metadata": {},
   "outputs": [
    {
     "data": {
      "text/plain": [
       "[0.2,\n",
       " 0.2,\n",
       " 0.2,\n",
       " 0.2,\n",
       " 0.2,\n",
       " 0.2,\n",
       " 0.2,\n",
       " 0.2,\n",
       " 0.2,\n",
       " 0.2,\n",
       " 0.2,\n",
       " 0.2,\n",
       " 0.2,\n",
       " 0.2,\n",
       " 0.2,\n",
       " 0.2,\n",
       " 0.2,\n",
       " 0.2,\n",
       " 0.2,\n",
       " 0.2]"
      ]
     },
     "execution_count": 88,
     "metadata": {},
     "output_type": "execute_result"
    }
   ],
   "source": []
  },
  {
   "cell_type": "code",
   "execution_count": 53,
   "metadata": {},
   "outputs": [],
   "source": [
    "def choose_one(y):\n",
    "    y_orig = y.copy()\n",
    "    y_working = y_orig.copy()\n",
    "    classes = np.unique(y_orig)\n",
    "    res = []\n",
    "    for c in classes:\n",
    "        if c == 0:\n",
    "            # cant directly set to 0 as c is 0, and cant make c 1 cause some other classes may be 1\n",
    "            y_working[y_orig!=c] = -1\n",
    "            y_working[y_orig==c] = 1\n",
    "            y_working[y_orig!=c] = 0\n",
    "        else:\n",
    "            y_working[y_orig!=c] = 0\n",
    "            y_working[y_orig==c] = 1\n",
    "        res.append(y_working.copy())\n",
    "    return res"
   ]
  },
  {
   "cell_type": "code",
   "execution_count": 54,
   "metadata": {},
   "outputs": [],
   "source": [
    "import pandas as pd\n",
    "iris = sklearn.datasets.load_iris()\n",
    "df= pd.DataFrame(data= np.c_[iris['data'], iris['target']],\n",
    "                     columns= iris['feature_names'] + ['target'])\n"
   ]
  },
  {
   "cell_type": "code",
   "execution_count": 80,
   "metadata": {},
   "outputs": [
    {
     "name": "stdout",
     "output_type": "stream",
     "text": [
      "LR train: 0.9919354838709677\n",
      "LR valid: 0.9814814814814815\n",
      "RF train: 1.0\n",
      "RF valid: 1.0\n",
      "-----------\n",
      "\n",
      "LR train: 0.9919354838709677\n",
      "LR valid: 0.9629629629629629\n",
      "RF train: 1.0\n",
      "RF valid: 1.0\n",
      "-----------\n",
      "\n",
      "LR train: 1.0\n",
      "LR valid: 0.9629629629629629\n",
      "RF train: 1.0\n",
      "RF valid: 1.0\n",
      "-----------\n",
      "\n"
     ]
    },
    {
     "data": {
      "text/plain": [
       "0.2"
      ]
     },
     "execution_count": 80,
     "metadata": {},
     "output_type": "execute_result"
    }
   ],
   "source": [
    "x = wd['data']\n",
    "for y in opts:\n",
    "    x_train, x_test, y_train, y_test = train_test_split(x, y, test_size=0.3, random_state=RANDOM_SEED)\n",
    "    lr = LogisticRegression(solver='lbfgs', max_iter=10000)\n",
    "    lr.fit(x_train, y_train)\n",
    "    print(\"LR train:\", lr.score(x_train, y_train))\n",
    "    print(\"LR valid:\", lr.score(x_test, y_test))\n",
    "    \n",
    "    rf = RandomForestClassifier()\n",
    "    rf.fit(x_train, y_train)\n",
    "    print(\"RF train:\", rf.score(x_train, y_train))\n",
    "    print(\"RF valid:\", rf.score(x_test, y_test))\n",
    "    \n",
    "    print(\"-----------\\n\")\n",
    "    \n",
    "sample_over_feature_score(df)"
   ]
  },
  {
   "cell_type": "code",
   "execution_count": 60,
   "metadata": {},
   "outputs": [
    {
     "data": {
      "text/plain": [
       "(506, 13)"
      ]
     },
     "execution_count": 60,
     "metadata": {},
     "output_type": "execute_result"
    }
   ],
   "source": [
    "bd = sklearn.datasets.load_boston()\n",
    "x = bd['data']\n",
    "y = bd['target']\n",
    "x.shape"
   ]
  },
  {
   "cell_type": "code",
   "execution_count": 61,
   "metadata": {},
   "outputs": [],
   "source": [
    "x = bd['data']\n",
    "y = to_classification(bd['target'])\n",
    "x_train, x_test, y_train, y_test = train_test_split(x, y, test_size=0.3, random_state=RANDOM_SEED)"
   ]
  },
  {
   "cell_type": "code",
   "execution_count": 62,
   "metadata": {},
   "outputs": [
    {
     "name": "stdout",
     "output_type": "stream",
     "text": [
      "0.9096045197740112\n",
      "0.8486842105263158\n"
     ]
    }
   ],
   "source": [
    "lr = LogisticRegression(solver='lbfgs', max_iter=10000)\n",
    "lr.fit(x_train, y_train)\n",
    "print(lr.score(x_train, y_train))\n",
    "print(lr.score(x_test, y_test))"
   ]
  },
  {
   "cell_type": "code",
   "execution_count": 63,
   "metadata": {},
   "outputs": [
    {
     "name": "stdout",
     "output_type": "stream",
     "text": [
      "1.0\n",
      "0.8289473684210527\n"
     ]
    }
   ],
   "source": [
    "rf = RandomForestClassifier()\n",
    "rf.fit(x_train, y_train)\n",
    "print(rf.score(x_train, y_train))\n",
    "print(rf.score(x_test, y_test))"
   ]
  },
  {
   "cell_type": "code",
   "execution_count": 64,
   "metadata": {},
   "outputs": [
    {
     "data": {
      "text/plain": [
       "0"
      ]
     },
     "execution_count": 64,
     "metadata": {},
     "output_type": "execute_result"
    }
   ],
   "source": [
    "import pandas as pd\n",
    "import numpy as np\n",
    "df = pd.read_csv('letter-recognition (1).csv')\n",
    "get_loss_score(df)"
   ]
  },
  {
   "cell_type": "code",
   "execution_count": 89,
   "metadata": {},
   "outputs": [
    {
     "name": "stdout",
     "output_type": "stream",
     "text": [
      "0.7813415243945996\n",
      "0.7666666666666667\n",
      "27.84981608390808\n",
      "1.0\n",
      "0.9595\n",
      "1.9793670177459717\n",
      "0.7784210526315789\n",
      "0.7742105263157895\n",
      "64.62356901168823\n",
      "1.0\n",
      "0.9580701754385965\n",
      "3.482793092727661\n",
      "0.7795238095238095\n",
      "0.7724074074074074\n",
      "49.60212016105652\n",
      "1.0\n",
      "0.9585185185185185\n",
      "3.2257652282714844\n",
      "0.7773949579831932\n",
      "0.7729411764705882\n",
      "49.51037573814392\n",
      "1.0\n",
      "0.9541176470588235\n",
      "3.0896568298339844\n",
      "0.7823214285714286\n",
      "0.7716666666666666\n",
      "44.21044898033142\n",
      "1.0\n",
      "0.9497916666666667\n",
      "2.915808916091919\n",
      "0.7839047619047619\n",
      "0.7717777777777778\n",
      "39.9250750541687\n",
      "1.0\n",
      "0.9517777777777777\n",
      "2.814617872238159\n",
      "0.7816326530612245\n",
      "0.7647619047619048\n",
      "36.61853003501892\n",
      "1.0\n",
      "0.9507142857142857\n",
      "2.560150623321533\n",
      "0.7775824175824175\n",
      "0.7648717948717949\n",
      "31.206981897354126\n",
      "1.0\n",
      "0.9492307692307692\n",
      "2.4144952297210693\n",
      "0.7725\n",
      "0.7694444444444445\n",
      "27.766010999679565\n",
      "1.0\n",
      "0.9480555555555555\n",
      "2.3638179302215576\n",
      "0.7827272727272727\n",
      "0.7603030303030303\n",
      "28.891818046569824\n",
      "1.0\n",
      "0.9403030303030303\n",
      "2.076388120651245\n",
      "0.7872857142857143\n",
      "0.7673333333333333\n",
      "25.74682879447937\n",
      "1.0\n",
      "0.9396666666666667\n",
      "1.9693448543548584\n",
      "0.7866666666666666\n",
      "0.774074074074074\n",
      "24.55756402015686\n",
      "1.0\n",
      "0.9281481481481482\n",
      "1.7664000988006592\n",
      "0.7857142857142857\n",
      "0.7704166666666666\n",
      "22.872953176498413\n",
      "1.0\n",
      "0.9341666666666667\n",
      "1.6262540817260742\n",
      "0.78\n",
      "0.7738095238095238\n",
      "16.781046867370605\n",
      "1.0\n",
      "0.9238095238095239\n",
      "1.483924150466919\n",
      "0.7816666666666666\n",
      "0.7716666666666666\n",
      "12.98524022102356\n",
      "1.0\n",
      "0.9294444444444444\n",
      "1.2772061824798584\n",
      "0.7965714285714286\n",
      "0.7526666666666667\n",
      "14.802191972732544\n",
      "1.0\n",
      "0.8953333333333333\n",
      "1.1386170387268066\n",
      "0.7935714285714286\n",
      "0.7666666666666667\n",
      "12.030993223190308\n",
      "1.0\n",
      "0.8983333333333333\n",
      "1.0026838779449463\n",
      "0.8171428571428572\n",
      "0.7322222222222222\n",
      "8.896530151367188\n",
      "1.0\n",
      "0.8411111111111111\n",
      "0.8526520729064941\n",
      "0.825\n",
      "0.7783333333333333\n",
      "4.632964849472046\n",
      "1.0\n",
      "0.8733333333333333\n",
      "0.6571729183197021\n",
      "0.8671428571428571\n",
      "0.7133333333333334\n",
      "2.9357869625091553\n",
      "1.0\n",
      "0.7633333333333333\n",
      "0.4277608394622803\n"
     ]
    }
   ],
   "source": [
    "import pandas as pd\n",
    "import time\n",
    "\n",
    "df = pd.read_csv('letter-recognition (1).csv')\n",
    "df = df.rename(columns={\"T\": \"Letter\"})\n",
    "\n",
    "LR_Score = []\n",
    "RF_Score = []\n",
    "scores = []\n",
    "sizes = np.linspace(20000, 1000, 20)\n",
    "sizes = list(map(int, sizes))\n",
    "for s in sizes:\n",
    "    df = df[0:s]\n",
    "    scores.append(sample_over_feature_score(df))\n",
    "    y = df.Letter\n",
    "    x = df.drop(columns=['Letter'])\n",
    "    x_train, x_test, y_train, y_test = train_test_split(x, y, test_size=0.3, random_state=RANDOM_SEED)\n",
    "    start = time.time()\n",
    "    lr = LogisticRegression(solver='lbfgs', max_iter=10000)\n",
    "    lr.fit(x_train, y_train)\n",
    "    print(lr.score(x_train, y_train))\n",
    "    LR_Score.append(lr.score(x_test, y_test))\n",
    "    print(lr.score(x_test, y_test))\n",
    "    end = time.time()\n",
    "    print(end - start)\n",
    "    \n",
    "    start = time.time()\n",
    "    rf = RandomForestClassifier()\n",
    "    rf.fit(x_train, y_train)\n",
    "    print(rf.score(x_train, y_train))\n",
    "    RF_Score.append(rf.score(x_test, y_test))\n",
    "    print(rf.score(x_test, y_test))\n",
    "    end = time.time()\n",
    "    print(end - start)\n",
    "    \n",
    "\n",
    "\n"
   ]
  },
  {
   "cell_type": "code",
   "execution_count": 110,
   "metadata": {},
   "outputs": [
    {
     "name": "stdout",
     "output_type": "stream",
     "text": [
      "[0.2, 0.2, 0.2, 0.2, 0.2, 0.2, 0.2, 0.2, 0.2, 0.2, 0.2, 0.2, 0.2, 0.2, 0.2, 0.2, 0.2, 0.2, 0.2, 0.2]\n",
      "[0.9595, 0.9580701754385965, 0.9585185185185185, 0.9541176470588235, 0.9497916666666667, 0.9517777777777777, 0.9507142857142857, 0.9492307692307692, 0.9480555555555555, 0.9403030303030303, 0.9396666666666667, 0.9281481481481482, 0.9341666666666667, 0.9238095238095239, 0.9294444444444444, 0.8953333333333333, 0.8983333333333333, 0.8411111111111111, 0.8733333333333333]\n"
     ]
    },
    {
     "data": {
      "image/png": "[encoded data removed]",
      "text/plain": [
       "<Figure size 432x288 with 1 Axes>"
      ]
     },
     "metadata": {
      "needs_background": "light"
     },
     "output_type": "display_data"
    }
   ],
   "source": [
    "import matplotlib.pyplot as plt \n",
    "print(scores)\n",
    "LR_Score = [0.7666666666666667, 0.7742105263157895,\n",
    "            0.7724074074074074, 0.7729411764705882,\n",
    "            0.7716666666666666, 0.7717777777777778,\n",
    "            0.7647619047619048, 0.7648717948717949,\n",
    "            0.7694444444444445, 0.7603030303030303,\n",
    "            0.7673333333333333, 0.774074074074074,\n",
    "            0.7704166666666666, 0.7738095238095238,\n",
    "            0.7716666666666666, 0.7526666666666667,\n",
    "            0.7666666666666667, 0.7322222222222222,\n",
    "            0.7783333333333333]\n",
    "RF_Score = [0.9595, 0.9580701754385965, 0.9585185185185185, 0.9541176470588235, 0.9497916666666667,\n",
    "            0.9517777777777777, 0.9507142857142857, 0.9492307692307692, 0.9480555555555555,\n",
    "            0.9403030303030303, 0.9396666666666667, 0.9281481481481482, 0.9341666666666667, \n",
    "            0.9238095238095239, 0.9294444444444444, 0.8953333333333333, 0.8983333333333333, \n",
    "            0.8411111111111111, 0.8733333333333333]\n",
    "x = np.linspace(20000, 1000, 19)\n",
    "y = np.array(scores)\n",
    "x_RF = np.linspace(0, 1, 19)\n",
    "y_RF = np.array(RF_Score)\n",
    "\n",
    "\n",
    "plt.plot(x, RF_Score, 'o', color='black' )\n",
    "plt.title('Random Forest accuracy as a function of sample size')\n",
    "print(RF_Score)"
   ]
  }
 ],
 "metadata": {
  "kernelspec": {
   "display_name": "Python 3",
   "language": "python",
   "name": "python3"
  },
  "language_info": {
   "codemirror_mode": {
    "name": "ipython",
    "version": 3
   },
   "file_extension": ".py",
   "mimetype": "text/x-python",
   "name": "python",
   "nbconvert_exporter": "python",
   "pygments_lexer": "ipython3",
   "version": "3.7.3"
  }
 },
 "nbformat": 4,
 "nbformat_minor": 2
}
